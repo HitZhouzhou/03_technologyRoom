{
 "cells": [
  {
   "cell_type": "code",
   "execution_count": 130,
   "metadata": {},
   "outputs": [],
   "source": [
    "import requests\n",
    "import os\n",
    "import re\n",
    "import time\n",
    "import random"
   ]
  },
  {
   "cell_type": "code",
   "execution_count": 131,
   "metadata": {},
   "outputs": [],
   "source": [
    "url = 'https://www.kugou.com/yy/rank/home/1-8888.html?from=rank'"
   ]
  },
  {
   "cell_type": "code",
   "execution_count": 132,
   "metadata": {},
   "outputs": [],
   "source": [
    "def get_response(url):\n",
    "    headers = {\n",
    "        'User-Agent': 'Mozilla/5.0 (Windows NT 6.1; WOW64; rv:43.0) Gecko/20100101 Firefox/43.0'\n",
    "    }\n",
    "    response = requests.get(url=url,headers=headers)\n",
    "    return response"
   ]
  },
  {
   "cell_type": "code",
   "execution_count": 133,
   "metadata": {},
   "outputs": [],
   "source": [
    "def get_music_id(url):\n",
    "    response = get_response(url)\n",
    "    Hash_list = re.findall('\"hash\":\"(.*?)\"',response.text)\n",
    "    album_id_list = re.findall('\"album_id\":(\\d+)', response.text)\n",
    "    print(Hash_list)\n",
    "    print(album_id_list)\n",
    "    music_id_list = zip(Hash_list,album_id_list)\n",
    "    return music_id_list"
   ]
  },
  {
   "cell_type": "code",
   "execution_count": 134,
   "metadata": {},
   "outputs": [],
   "source": [
    "def get_music_info(Hash,music_id):\n",
    "    \"\"\"list\"\"\"\n",
    "    link_list = f'https://wwwapi.kugou.com/yy/index.php?r=play/getdata&hash={Hash}&dfid=3ex60E2pQb582fRAwB1wYhA1&appid=1014&mid=94c23e6bf948c957d06d24c4dec18b1e&platid=4&album_id={music_id}&_=1695860308340'\n",
    "    response = get_response(url=link_list)\n",
    "    title = response.json()['data']['album_name']\n",
    "    play_url = response.json()['data']['play_url']\n",
    "    print(title,play_url)\n",
    "    music_info = [title,play_url]\n",
    "    # print(music_info)\n",
    "    return music_info"
   ]
  },
  {
   "cell_type": "code",
   "execution_count": 135,
   "metadata": {},
   "outputs": [],
   "source": [
    "def save(title,play_url):\n",
    "    music_content = get_response(url=play_url).content\n",
    "    with open(\"./任素汐/{}.mp3\".format(title),mode='wb') as f:\n",
    "        f.write(music_content)\n",
    "        print(title,'保存成功')\n",
    "        print('*'*20)"
   ]
  },
  {
   "cell_type": "code",
   "execution_count": 136,
   "metadata": {},
   "outputs": [],
   "source": [
    "def main(url):\n",
    "    music_id_list = get_music_id(url=url)\n",
    "    for Hash, music_id in music_id_list:\n",
    "        try:\n",
    "            music_info = get_music_info(Hash, music_id)\n",
    "            save(music_info[0], music_info[1])\n",
    "        except Exception as e:\n",
    "            pass\n",
    "        continue"
   ]
  },
  {
   "cell_type": "code",
   "execution_count": 137,
   "metadata": {},
   "outputs": [
    {
     "name": "stdout",
     "output_type": "stream",
     "text": [
      "['A6971AC00970DB979D3D7F6089B054B4', '7745B6DD9D26575A4CD6878A0F324C03', '4E21A1A783C764CB5AE9B12E160CAE51', '8C655F575EBB2414B53EFF0D2C13188D', '82A7D050669F62250197CC6D86EC6F2A', '74490CBF29323178A0363CF3E2705B34', 'DF6795EEE12FCE71C25D254F685D9151', 'EF73606C64A5F68784A8405C6A2978BF', 'E19A3B8A1A9FFE562618D504FD5A5864', 'F43DE58E3B1020232D49E6456E83B6C2', '5AE39CC0A3B6D3297E83C2A005F0235E', '6CFA15B131E2A4AADA8A34B2B6ED06D3', '52C0AB9FF0CF93380C55B458CC42A568', '8623148713F3CED64A7BCA4D61803808', 'F4E83787F2751BFA2DF84E3160FC0BEF', 'C9F2D4D97EC6E3883EB4A739149E2E63', 'C98AFF906A5175D4AD2A778A177AD126', '6A2991B85E42B03B9BA954EA6AFAB61D', 'C5B2146C4E38C325E54D70349843CB15', '6715C46043623196830ADECBB876024B', '76D478D7D2B6519A63407A474FFE4C2C', '1A3F1B4806CE9068A47AEC38864F2249', '1F8169A714CC3CEF1B5F5D93B35871FA', '203A5489615BD52C351B1A892DBDE320', '7B29B3D89097EE2F7F291D3686F99626', '1DBCD363B73EF58528DE3EC09BA4BB1D', 'AEFAF7A2B291C610A027FFC9D36D28BC', 'ECB4309B537D54197A1EA1FD60269EAA', '7C273991A74E364C691680D19E60ED96', 'C2607497FEA60B7E322C5C1586AA19DB']\n",
      "['83300880', '83070145', '83289433', '12506106', '83070145', '80582138', '83070145', '1802697', '56703825', '10222641', '78564222', '12249788', '68539172', '56703825', '0', '80582138', '0', '0', '42240873', '2170450', '16089476', '1799881', '35444713', '39558599', '0', '0', '0', '46749150', '0', '0']\n",
      "枕着光的她 https://webfs.hw.kugou.com/202402171152/e1f6bab3f86ea4afc4632feb93a0c899/KGTX/CLTX001/a6971ac00970db979d3d7f6089b054b4.mp3\n",
      "枕着光的她 保存成功\n",
      "********************\n",
      "TA·说 https://webfs.hw.kugou.com/202402171155/23eb12c7295d9c1f152c5bfd2994c8dc/v2/7745b6dd9d26575a4cd6878a0f324c03/G340/M07/0B/45/NJUEAGUjmzCAOtG5AD5Px-Okcls505.mp3\n",
      "TA·说 保存成功\n",
      "********************\n",
      "2024年中央广播电视总台春节联欢晚会 https://webfs.hw.kugou.com/202402171157/98f15d5a724707e8af45a7d57bb82687/KGTX/CLTX001/4e21a1a783c764cb5ae9b12e160cae51.mp3\n",
      "2024年中央广播电视总台春节联欢晚会 保存成功\n",
      "********************\n",
      "胡广生 https://webfs.hw.kugou.com/202402171150/813fa4f9c869c1d441eb65425101def7/v2/8c655f575ebb2414b53eff0d2c13188d/G239/M0B/10/17/j4cBAF-iFpOAfy28ADSAwjCjhSY182.mp3\n",
      "胡广生 保存成功\n",
      "********************\n",
      "TA·说 https://webfs.hw.kugou.com/202402171157/e7fd076f21a47989947ed047e1c0ecdb/KGTX/CLTX001/82a7d050669f62250197cc6d86ec6f2a.mp3\n",
      "TA·说 保存成功\n",
      "********************\n",
      "故乡，别来无恙 电视剧原声带 https://webfs.hw.kugou.com/202402171157/e201fb87e049541a3edc5f3d9b16a868/part/0/960113/KGTX/CLTX001/clip_74490cbf29323178a0363cf3e2705b34.mp3\n",
      "故乡，别来无恙 电视剧原声带 保存成功\n",
      "********************\n",
      "TA·说 https://webfs.hw.kugou.com/202402171157/a8305b8a085778e58569629830667afd/KGTX/CLTX001/df6795eee12fce71c25d254f685d9151.mp3\n",
      "TA·说 保存成功\n",
      "********************\n",
      "我要你 https://webfs.hw.kugou.com/202402171157/4838e1cfda24a842bc9280ed7ee27517/v2/ef73606c64a5f68784a8405c6a2978bf/G366/M0B/93/05/TpUEAGVKPM-AEwm6ACWs1jEK3EA993.mp3\n",
      "我要你 保存成功\n",
      "********************\n",
      "亲爱的小孩 电视剧原声带 https://webfs.hw.kugou.com/202402171157/b20e62e0bc83d7ca2b624661e45469e8/v2/e19a3b8a1a9ffe562618d504fd5a5864/part/0/960173/G351/M0B/27/11/clip_P5UEAGUNewyATNXVADu1317mw4g494.mp3\n",
      "亲爱的小孩 电视剧原声带 保存成功\n",
      "********************\n",
      "再见青春 https://webfs.hw.kugou.com/202402171157/2be46a8692cd50acbe29a7722d371262/v2/f43de58e3b1020232d49e6456e83b6c2/part/0/960121/G326/M03/A1/29/clip_JpUEAGTXM-GANKCwAESyFEskVcE760.mp3\n",
      "再见青春 保存成功\n",
      "********************\n",
      "乐队的夏天3 第7期 https://webfs.hw.kugou.com/202402171157/4f8ff877d0ee36d394594232c4c4e6e4/part/0/960165/KGTX/CLTX001/clip_5ae39cc0a3b6d3297e83c2a005f0235e.mp3\n",
      "乐队的夏天3 第7期 保存成功\n",
      "********************\n",
      "等一等 https://webfs.hw.kugou.com/202402171157/5e336c86f1a689629d2d2c8bd5a25dce/v2/6cfa15b131e2a4aada8a34b2b6ed06d3/G247/M0A/1D/1B/Nw4DAF-iD6iAPgA9AED1VEbpYeg821.mp3\n",
      "等一等 保存成功\n",
      "********************\n",
      "荒原 https://webfs.hw.kugou.com/202402171157/53e5d1fbe2a0026979d5495c127c2e64/KGTX/CLTX001/52c0ab9ff0cf93380c55b458cc42a568.mp3\n",
      "荒原 保存成功\n",
      "********************\n",
      "亲爱的小孩 电视剧原声带 https://webfs.hw.kugou.com/202402171157/dfeed770ffaf2018921edc9b0113e5ba/v2/8623148713f3ced64a7bca4d61803808/part/0/960131/G371/M07/22/0D/clip_U5UEAGVQBnqAbnh3ADIhdzqJNPU959.mp3\n",
      "亲爱的小孩 电视剧原声带 保存成功\n",
      "********************\n",
      "未知专辑 https://webfs.hw.kugou.com/202402171152/244552f71dd782638daf2e863388134e/KGTX/CLTX001/f4e83787f2751bfa2df84e3160fc0bef.mp3\n",
      "未知专辑 保存成功\n",
      "********************\n",
      "故乡，别来无恙 电视剧原声带 https://webfs.hw.kugou.com/202402171156/ae0c8f0499a4881163495b98869f81e0/KGTX/CLTX001/c9f2d4d97ec6e3883eb4a739149e2e63.mp3\n",
      "故乡，别来无恙 电视剧原声带 保存成功\n",
      "********************\n",
      "未知专辑 https://webfs.hw.kugou.com/202402171157/2dac30833e564cb612b88c3af6b55cab/KGTX/CLTX001/c98aff906a5175d4ad2a778a177ad126.mp3\n",
      "未知专辑 保存成功\n",
      "********************\n",
      "未知专辑 https://webfs.hw.kugou.com/202402171152/5f40ac70d23df615baa844593273fc85/v2/6a2991b85e42b03b9ba954ea6afab61d/G328/M03/50/08/KJUEAGTOVy2Ac8tbADaYfF6DZfA193.mp3\n",
      "未知专辑 保存成功\n",
      "********************\n",
      "就懂了 https://webfs.hw.kugou.com/202402171154/bc16ea4581d077735d629ea861d909b2/part/0/960121/KGTX/CLTX001/clip_c5b2146c4e38c325e54d70349843cb15.mp3\n",
      "就懂了 保存成功\n",
      "********************\n",
      "心恋 https://webfs.hw.kugou.com/202402171155/ca841775dcc485613f5f204ee1ac777f/KGTX/CLTX001/6715c46043623196830adecbb876024b.mp3\n",
      "心恋 保存成功\n",
      "********************\n",
      "最佳损友 国语版 https://webfs.tx.kugou.com/202402171153/0d12d3ddd30b0975e5dbd2cf1cec4fd6/v2/76d478d7d2b6519a63407a474ffe4c2c/part/0/480316/G366/M03/C7/63/clip_TpUEAGVC1uOAEb2BADs5ozy8vKQ143.mp3\n",
      "最佳损友 国语版 保存成功\n",
      "********************\n",
      "我要你 https://webfs.hw.kugou.com/202402171156/171c9ad5d8fad156ac81ff801d0e241f/v2/1a3f1b4806ce9068a47aec38864f2249/G346/M05/AF/83/OpUEAGUY0GKAbpp0AD6-0pQFVc0179.mp3\n",
      "我要你 保存成功\n",
      "********************\n",
      "Unsaid https://webfs.hw.kugou.com/202402171157/8d5837ce8f40c34936d1e7ea83838a11/v2/1f8169a714cc3cef1b5f5d93b35871fa/G347/M09/09/19/O5UEAGUMsbuAV6GwADXN3Vj00ug465.mp3\n",
      "Unsaid 保存成功\n",
      "********************\n",
      "至乐汇Music Park https://webfs.hw.kugou.com/202402171157/1db8e4161c359096d1d742cb729c596e/v2/203a5489615bd52c351b1a892dbde320/G318/M02/D9/BF/HpUEAGTL4B-AO8nKAENOCwe64Bo763.mp3\n",
      "至乐汇Music Park 保存成功\n",
      "********************\n",
      "未知专辑 https://webfs.hw.kugou.com/202402171157/46b299cd5ef51d17879a3eb4c4e8adbb/v2/7b29b3d89097ee2f7f291d3686f99626/G095/M08/0B/13/nw0DAFkBbjKAL0wWAC8FjLw78rU973.mp3\n",
      "未知专辑 保存成功\n",
      "********************\n",
      "未知专辑 https://webfs.tx.kugou.com/202402171154/481df48317620c8d50308619be7cd038/v2/1dbcd363b73ef58528de3ec09ba4bb1d/KGTX/CLTX001/1dbcd363b73ef58528de3ec09ba4bb1d.mp3\n",
      "未知专辑 保存成功\n",
      "********************\n",
      "未知专辑 https://webfs.hw.kugou.com/202402171157/182b035fbaab4c522aee3ad3be36507e/v2/aefaf7a2b291c610a027ffc9d36d28bc/G337/M02/CD/33/MZUEAGTCG8OAVIFNADGXrsOtAzc691.mp3\n",
      "未知专辑 保存成功\n",
      "********************\n",
      "我在他乡挺好的 影视原声带 https://webfs.hw.kugou.com/202402171157/ae21b68f94dae479d40369566d1c2f76/v2/ecb4309b537d54197a1ea1fd60269eaa/part/0/1760117/KGTX/COS201/clip_8c65478f6dfdfb69af4c8dfa29d8011f.mp3\n",
      "我在他乡挺好的 影视原声带 保存成功\n",
      "********************\n",
      "未知专辑 https://webfs.hw.kugou.com/202402171157/2e384bf28738ae787a606b632e80f8cf/KGTX/CLTX001/7c273991a74e364c691680d19e60ed96.mp3\n",
      "未知专辑 保存成功\n",
      "********************\n",
      "未知专辑 https://webfs.hw.kugou.com/202402171154/1765e531cc137fc7f2ac7558228f8ca1/v2/c2607497fea60b7e322c5c1586aa19db/G165/M04/0F/0D/5Q0DAF0imQGAEjPTABT5l64NB6Y181.mp3\n",
      "未知专辑 保存成功\n",
      "********************\n"
     ]
    }
   ],
   "source": [
    "if __name__ == '__main__':\n",
    "    url = 'https://www.kugou.com/singer/info/HFMOKB839D293/'\n",
    "    main(url)"
   ]
  },
  {
   "cell_type": "code",
   "execution_count": 138,
   "metadata": {},
   "outputs": [
    {
     "name": "stdout",
     "output_type": "stream",
     "text": [
      "['A6971AC00970DB979D3D7F6089B054B4', '7745B6DD9D26575A4CD6878A0F324C03', '4E21A1A783C764CB5AE9B12E160CAE51', '8C655F575EBB2414B53EFF0D2C13188D', '82A7D050669F62250197CC6D86EC6F2A', '74490CBF29323178A0363CF3E2705B34', 'DF6795EEE12FCE71C25D254F685D9151', 'EF73606C64A5F68784A8405C6A2978BF', 'E19A3B8A1A9FFE562618D504FD5A5864', 'F43DE58E3B1020232D49E6456E83B6C2', '5AE39CC0A3B6D3297E83C2A005F0235E', '6CFA15B131E2A4AADA8A34B2B6ED06D3', '52C0AB9FF0CF93380C55B458CC42A568', '8623148713F3CED64A7BCA4D61803808', 'F4E83787F2751BFA2DF84E3160FC0BEF', 'C9F2D4D97EC6E3883EB4A739149E2E63', 'C98AFF906A5175D4AD2A778A177AD126', '6A2991B85E42B03B9BA954EA6AFAB61D', 'C5B2146C4E38C325E54D70349843CB15', '6715C46043623196830ADECBB876024B', '76D478D7D2B6519A63407A474FFE4C2C', '1A3F1B4806CE9068A47AEC38864F2249', '1F8169A714CC3CEF1B5F5D93B35871FA', '203A5489615BD52C351B1A892DBDE320', '7B29B3D89097EE2F7F291D3686F99626', '1DBCD363B73EF58528DE3EC09BA4BB1D', 'AEFAF7A2B291C610A027FFC9D36D28BC', 'ECB4309B537D54197A1EA1FD60269EAA', '7C273991A74E364C691680D19E60ED96', 'C2607497FEA60B7E322C5C1586AA19DB']\n",
      "['83300880', '83070145', '83289433', '12506106', '83070145', '80582138', '83070145', '1802697', '56703825', '10222641', '78564222', '12249788', '68539172', '56703825', '0', '80582138', '0', '0', '42240873', '2170450', '16089476', '1799881', '35444713', '39558599', '0', '0', '0', '46749150', '0', '0']\n"
     ]
    }
   ],
   "source": [
    "url = 'https://www.kugou.com/singer/info/HFMOKB839D293/'\n",
    "music_id_list = get_music_id(url)"
   ]
  },
  {
   "cell_type": "code",
   "execution_count": null,
   "metadata": {},
   "outputs": [],
   "source": []
  }
 ],
 "metadata": {
  "kernelspec": {
   "display_name": "Python 3",
   "language": "python",
   "name": "python3"
  },
  "language_info": {
   "codemirror_mode": {
    "name": "ipython",
    "version": 3
   },
   "file_extension": ".py",
   "mimetype": "text/x-python",
   "name": "python",
   "nbconvert_exporter": "python",
   "pygments_lexer": "ipython3",
   "version": "3.10.9"
  }
 },
 "nbformat": 4,
 "nbformat_minor": 2
}
