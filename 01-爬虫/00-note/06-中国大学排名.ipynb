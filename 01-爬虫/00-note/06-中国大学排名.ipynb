{
 "cells": [
  {
   "cell_type": "code",
   "execution_count": 43,
   "metadata": {},
   "outputs": [],
   "source": [
    "# 输入url链接\n",
    "# 输出大学排名,大学名称,总分\n",
    "# 技术路线: requests-bs4\n",
    "# 定向爬虫: 只爬取指定的网页数据\n",
    "from bs4 import BeautifulSoup\n",
    "import requests\n",
    "import bs4\n",
    "import re\n",
    "import pandas as pd\n",
    "import numpy as np\n",
    "import os"
   ]
  },
  {
   "cell_type": "code",
   "execution_count": 44,
   "metadata": {},
   "outputs": [],
   "source": [
    "def getHTMLText(url):\n",
    "    try:\n",
    "        r = requests.get(url,timeout=30)\n",
    "        r.raise_for_status()\n",
    "        r.encoding = r.apparent_encoding\n",
    "        return r.text\n",
    "    except:\n",
    "        return \"\"\n",
    "\n",
    "def fillUnivList(ulist, html):\n",
    "    soup = BeautifulSoup(html, \"html.parser\")\n",
    "    for tr in soup.find('tbody').children:\n",
    "        if isinstance(tr,bs4.element.Tag):\n",
    "            tds = tr('td')\n",
    "            name = tds[1].a.string\n",
    "            # 去掉所有'\\n'字符,空格字符,\\t字符\n",
    "            rank = re.sub(r'\\s','',tds[0].string)\n",
    "            name = re.sub(r'\\s','',name)\n",
    "            score = re.sub(r'\\s','',tds[4].string)\n",
    "            ulist.append([rank,name,score])\n",
    "    # print(ulist)\n",
    "\n",
    "def printUnivList(ulist, num):\n",
    "    \n",
    "    print(\"{:^10}\\t{:^6}\\t{:^10}\".format(\"排名\",\"学校名称\",\"总分\"))\n",
    "\n",
    "    for i in range(num):\n",
    "        u = ulist[i]\n",
    "        print(\"{:^10}\\t{:^6}\\t{:^10}\".format(u[0],u[1],u[2]))\n",
    "    print(\"Suc\" + str(num))\n",
    "    \n",
    "def saveUnivList(ulist):\n",
    "    # 保存\n",
    "    # 如果excel文件'./data/01-UniversityRanking.xlsx'不存在则创建,如果存在则覆盖\n",
    "    if not os.path.exists('./data/01-UniversityRanking.xlsx'):\n",
    "        # 把ulist转成一个dataframe\n",
    "        df = pd.DataFrame(ulist,columns=['排名','学校名称','总分'])\n",
    "        df.to_excel('./data/01-UniversityRanking.xlsx',index=False)"
   ]
  },
  {
   "cell_type": "code",
   "execution_count": 47,
   "metadata": {},
   "outputs": [
    {
     "name": "stdout",
     "output_type": "stream",
     "text": [
      "    排名    \t 学校名称 \t    总分    \n",
      "    1     \t 清华大学 \t  1004.1  \n",
      "    2     \t 北京大学 \t  910.5   \n",
      "    3     \t 浙江大学 \t  822.9   \n",
      "    4     \t上海交通大学\t  778.6   \n",
      "    5     \t 复旦大学 \t  712.4   \n",
      "    6     \t 南京大学 \t  676.2   \n",
      "    7     \t中国科学技术大学\t  608.6   \n",
      "    8     \t华中科技大学\t  606.2   \n",
      "    9     \t 武汉大学 \t  599.1   \n",
      "    10    \t西安交通大学\t  572.6   \n",
      "    11    \t 中山大学 \t  570.0   \n",
      "    12    \t 四川大学 \t  546.9   \n",
      "    13    \t哈尔滨工业大学\t  544.2   \n",
      "    14    \t北京航空航天大学\t  543.5   \n",
      "    15    \t 东南大学 \t  532.3   \n",
      "    16    \t北京理工大学\t  529.3   \n",
      "    17    \t 同济大学 \t  527.0   \n",
      "    18    \t中国人民大学\t  526.3   \n",
      "    19    \t北京师范大学\t  523.4   \n",
      "    20    \t 南开大学 \t  490.4   \n",
      "Suc20\n"
     ]
    }
   ],
   "source": [
    "def main(url):\n",
    "    uinfo = []\n",
    "    html = getHTMLText(url)\n",
    "    fillUnivList(uinfo, html)\n",
    "    printUnivList(uinfo, 20) # 20 univs\n",
    "    saveUnivList(uinfo)\n",
    "\n",
    "main('https://www.shanghairanking.cn/rankings/bcur/202311')"
   ]
  },
  {
   "cell_type": "code",
   "execution_count": 48,
   "metadata": {},
   "outputs": [
    {
     "ename": "AttributeError",
     "evalue": "'NoneType' object has no attribute 'children'",
     "output_type": "error",
     "traceback": [
      "\u001b[1;31m---------------------------------------------------------------------------\u001b[0m",
      "\u001b[1;31mAttributeError\u001b[0m                            Traceback (most recent call last)",
      "Cell \u001b[1;32mIn[48], line 1\u001b[0m\n\u001b[1;32m----> 1\u001b[0m \u001b[43mmain\u001b[49m\u001b[43m(\u001b[49m\u001b[38;5;124;43m'\u001b[39;49m\u001b[38;5;124;43mhttps://www.shanghairanking.cn/rankings/bcmr/2023/080901\u001b[39;49m\u001b[38;5;124;43m'\u001b[39;49m\u001b[43m)\u001b[49m\n",
      "Cell \u001b[1;32mIn[47], line 4\u001b[0m, in \u001b[0;36mmain\u001b[1;34m(url)\u001b[0m\n\u001b[0;32m      2\u001b[0m uinfo \u001b[38;5;241m=\u001b[39m []\n\u001b[0;32m      3\u001b[0m html \u001b[38;5;241m=\u001b[39m getHTMLText(url)\n\u001b[1;32m----> 4\u001b[0m \u001b[43mfillUnivList\u001b[49m\u001b[43m(\u001b[49m\u001b[43muinfo\u001b[49m\u001b[43m,\u001b[49m\u001b[43m \u001b[49m\u001b[43mhtml\u001b[49m\u001b[43m)\u001b[49m\n\u001b[0;32m      5\u001b[0m printUnivList(uinfo, \u001b[38;5;241m20\u001b[39m) \u001b[38;5;66;03m# 20 univs\u001b[39;00m\n\u001b[0;32m      6\u001b[0m saveUnivList(uinfo)\n",
      "Cell \u001b[1;32mIn[44], line 12\u001b[0m, in \u001b[0;36mfillUnivList\u001b[1;34m(ulist, html)\u001b[0m\n\u001b[0;32m     10\u001b[0m \u001b[38;5;28;01mdef\u001b[39;00m \u001b[38;5;21mfillUnivList\u001b[39m(ulist, html):\n\u001b[0;32m     11\u001b[0m     soup \u001b[38;5;241m=\u001b[39m BeautifulSoup(html, \u001b[38;5;124m\"\u001b[39m\u001b[38;5;124mhtml.parser\u001b[39m\u001b[38;5;124m\"\u001b[39m)\n\u001b[1;32m---> 12\u001b[0m     \u001b[38;5;28;01mfor\u001b[39;00m tr \u001b[38;5;129;01min\u001b[39;00m \u001b[43msoup\u001b[49m\u001b[38;5;241;43m.\u001b[39;49m\u001b[43mfind\u001b[49m\u001b[43m(\u001b[49m\u001b[38;5;124;43m'\u001b[39;49m\u001b[38;5;124;43mtbody\u001b[39;49m\u001b[38;5;124;43m'\u001b[39;49m\u001b[43m)\u001b[49m\u001b[38;5;241;43m.\u001b[39;49m\u001b[43mchildren\u001b[49m:\n\u001b[0;32m     13\u001b[0m         \u001b[38;5;28;01mif\u001b[39;00m \u001b[38;5;28misinstance\u001b[39m(tr,bs4\u001b[38;5;241m.\u001b[39melement\u001b[38;5;241m.\u001b[39mTag):\n\u001b[0;32m     14\u001b[0m             tds \u001b[38;5;241m=\u001b[39m tr(\u001b[38;5;124m'\u001b[39m\u001b[38;5;124mtd\u001b[39m\u001b[38;5;124m'\u001b[39m)\n",
      "\u001b[1;31mAttributeError\u001b[0m: 'NoneType' object has no attribute 'children'"
     ]
    }
   ],
   "source": [
    "main('https://www.shanghairanking.cn/rankings/bcmr/2023/080901')"
   ]
  },
  {
   "cell_type": "code",
   "execution_count": null,
   "metadata": {},
   "outputs": [],
   "source": []
  }
 ],
 "metadata": {
  "kernelspec": {
   "display_name": "Python 3",
   "language": "python",
   "name": "python3"
  },
  "language_info": {
   "codemirror_mode": {
    "name": "ipython",
    "version": 3
   },
   "file_extension": ".py",
   "mimetype": "text/x-python",
   "name": "python",
   "nbconvert_exporter": "python",
   "pygments_lexer": "ipython3",
   "version": "3.10.9"
  }
 },
 "nbformat": 4,
 "nbformat_minor": 2
}
