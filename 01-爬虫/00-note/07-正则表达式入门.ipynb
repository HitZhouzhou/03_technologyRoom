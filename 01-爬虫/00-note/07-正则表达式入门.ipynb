{
 "cells": [
  {
   "cell_type": "code",
   "execution_count": 2,
   "metadata": {},
   "outputs": [],
   "source": [
    "# 正则表达式:一行胜千言\n",
    "# PY , PYY , PYYY , PYYYY , PYYYYY... == PY+\n",
    "# 通用的字符串表达框架\n",
    "# 主要用于字符串匹配\n",
    "# 编译:将字符串编译成正则表达式对象\n",
    "# 正则表达式的操作符\n",
    "# .:表示任何单个字符\n",
    "# []:表示字符集,对单个字符给出取值范围 [abc]表示a,b,c,[a-z]表示a到z单个字符\n",
    "# [^]:表示非字符集,对单个字符给出排除范围 [^abc]表示非a或b或c的单个字符\n",
    "# *:前一个字符0次或无限次扩展 abc*表示ab,abc,abcc,abccc...\n",
    "# +:前一个字符1次或无限次扩展 abc+表示abc,abcc,abccc...\n",
    "# ?:前一个字符0次或1次扩展 abc?表示ab,abc\n",
    "# |:左右表达式任意一个 abc|def 表示abc或def\n",
    "# {m}:扩展前一个字符m次 abc{2}表示abcc,ab{2}c 表示abbc\n",
    "# {m,n}:扩展前一个字符m至n次(含n) abc{1,2}表示abc,abcc\n",
    "# ^:匹配字符串开头 ^abc表示abc且在一个字符串的开头\n",
    "# $:匹配字符串结尾 abc$表示abc且在一个字符串的结尾\n",
    "# ():分组标记,内部只能使用'|'操作符 (abc)表示abc,(abc|def)表示abc或def\n",
    "# \\d:数字,等价于[0-9]\n",
    "# \\w:单词字符,等价于[A-Za-z0-9_]\n",
    "\n",
    "# P(Y|YT|YTH|YTHO)?N 表示:PN,PYN,PYTN,PYTHN,PYTHON\n",
    "# PYTHON+ 表示:PYTHON,PYTHONN,PYTHONNN...\n",
    "# PY[TH]ON 表示:PYTON,PYHON\n",
    "# PY[^TH]ON 表示:PYAON,PYBON...\n",
    "# PY{:3}N 表示:PYN,PYYN,PYYYN,PYYYYN\n",
    "\n",
    "# ^[A-Za-z]+$ 表示:由26个字母组成的字符串\n",
    "# ^[A-Za-z0-9]+$ 表示:由数字和26个字母组成的字符串\n",
    "# ^-?\\d+$ 表示:整数形式的字符串\n",
    "# ^[0-9]*[1-9][0-9]*$ 表示:正整数形式的字符串\n",
    "# [1-9]\\d{5} 表示:中国境内邮政编码\n",
    "# [\\u4e00-\\u9fa5] 表示:匹配中文字符\n",
    "# \\d{3}-\\d{8}|\\d{4}-\\d{7} 表示:国内电话号码\n",
    "\n",
    "# 匹配IP地址的正则表达式\n",
    "# 10.248.98.2\n",
    "# \\d{1,3}.\\d{1,3}.\\d{1,3}.\\d{1,3}\n",
    "# [0-255].[0-255].[0-255].[0-255]\n",
    "# 0-99 :[1-9]\\d\n",
    "# 100-199 :1\\d{2}\n",
    "# 200-249 :2[0-4]\\d\n",
    "# 250-255 :25[0-5]\n",
    "# ip地址:([1-9]\\d|1\\d{2}|2[0-4]\\d|25[0-5].){3}([1-9]\\d|1\\d{2}|2[0-4]\\d|25[0-5])"
   ]
  },
  {
   "cell_type": "code",
   "execution_count": 3,
   "metadata": {},
   "outputs": [],
   "source": [
    "# Re库的基本使用\n",
    "# Re是python的标准库\n",
    "import re\n",
    "# raw string类型,表示为: r'text'\n",
    "# 原生字符串,不包含转义字符\n",
    "# re库的主要功能函数\n",
    "# re.search(pattern,string,flags=0):在一个字符串中搜索匹配正则表达式的第一个位置,返回match对象\n",
    "# re.match(pattern,string,flags=0):从一个字符串的开始位置起匹配正则表达式,返回match对象\n",
    "# re.findall(pattern,string,flags=0):搜索字符串,以列表类型返回全部能匹配的子串\n",
    "# re.split(pattern,string,maxsplit=0,flags=0):将一个字符串按照正则表达式匹配结果进行分割,返回列表类型\n",
    "# re.finditer(pattern,string,flags=0):搜索字符串,返回一个匹配结果的迭代类型,每个迭代元素是match对象\n",
    "# re.sub(pattern,repl,string,count=0,flags=0):在一个字符串中替换所有匹配正则表达式的子串,返回替换后的字符串"
   ]
  },
  {
   "cell_type": "code",
   "execution_count": 4,
   "metadata": {},
   "outputs": [],
   "source": [
    "# re.search()函数\n",
    "# re.search(pattern,string,flags=0)\n",
    "# pattern:正则表达式的字符串或原生字符串表示\n",
    "# string:待匹配字符串\n",
    "# flags:正则表达式使用时的控制标记\n",
    "# 标记:\n",
    "# re.I(re.IGNORECASE):忽略大小写(括号内是完整写法)\n",
    "# re.M(re.MULTILINE):多行模式,改变^和$的行为\n",
    "# re.S(re.DOTALL):点任意匹配模式,改变.的行为\n"
   ]
  },
  {
   "cell_type": "code",
   "execution_count": 5,
   "metadata": {},
   "outputs": [
    {
     "name": "stdout",
     "output_type": "stream",
     "text": [
      "100081\n"
     ]
    }
   ],
   "source": [
    "match = re.search(r'[1-9]\\d{5}','BIT 100081')\n",
    "if match:\n",
    "    print(match.group(0))\n",
    "else:\n",
    "    print('No match')"
   ]
  },
  {
   "cell_type": "code",
   "execution_count": 6,
   "metadata": {},
   "outputs": [
    {
     "name": "stdout",
     "output_type": "stream",
     "text": [
      "No match\n"
     ]
    }
   ],
   "source": [
    "match = re.match(r'[1-9]\\d{5}','BIT 100081')\n",
    "if match:\n",
    "    print(match.group(0))\n",
    "else:\n",
    "    print('No match')"
   ]
  },
  {
   "cell_type": "code",
   "execution_count": 7,
   "metadata": {},
   "outputs": [
    {
     "name": "stdout",
     "output_type": "stream",
     "text": [
      "100081\n"
     ]
    }
   ],
   "source": [
    "match = re.match(r'[1-9]\\d{5}','100081 BIT')\n",
    "if match:\n",
    "    print(match.group(0))\n",
    "else:\n",
    "    print('No match')"
   ]
  },
  {
   "cell_type": "code",
   "execution_count": 8,
   "metadata": {},
   "outputs": [
    {
     "data": {
      "text/plain": [
       "['100081', '100084']"
      ]
     },
     "execution_count": 8,
     "metadata": {},
     "output_type": "execute_result"
    }
   ],
   "source": [
    "ls = re.findall(r'[1-9]\\d{5}','BIT100081 TSU100084')\n",
    "ls"
   ]
  },
  {
   "cell_type": "code",
   "execution_count": 9,
   "metadata": {},
   "outputs": [
    {
     "data": {
      "text/plain": [
       "['BIT', ' TSU100084']"
      ]
     },
     "execution_count": 9,
     "metadata": {},
     "output_type": "execute_result"
    }
   ],
   "source": [
    "# re.split()函数\n",
    "# re.split(pattern,string,maxsplit=0,flags=0)\n",
    "ls = re.split(r'[1-9]\\d{5}','BIT100081 TSU100084',maxsplit=1)\n",
    "ls"
   ]
  },
  {
   "cell_type": "code",
   "execution_count": 10,
   "metadata": {},
   "outputs": [
    {
     "name": "stdout",
     "output_type": "stream",
     "text": [
      "100081\n",
      "100084\n"
     ]
    }
   ],
   "source": [
    "# re.finditer()函数\n",
    "# re.finditer(pattern,string,flags=0)\n",
    "for m in re.finditer(r'[1-9]\\d{5}','BIT100081 TSU100084'):\n",
    "    if m:\n",
    "        print(m.group(0))"
   ]
  },
  {
   "cell_type": "code",
   "execution_count": 12,
   "metadata": {},
   "outputs": [
    {
     "data": {
      "text/plain": [
       "'BITzipcode TSUzipcode'"
      ]
     },
     "execution_count": 12,
     "metadata": {},
     "output_type": "execute_result"
    }
   ],
   "source": [
    "# re.sub()函数\n",
    "# re.sub(pattern,repl,string,count=0,flags=0)\n",
    "# repl:替换匹配字符串的字符串\n",
    "# count:匹配的最大替换次数\n",
    "re.sub(r'[1-9]\\d{5}','zipcode','BIT100081 TSU100084')"
   ]
  },
  {
   "cell_type": "code",
   "execution_count": 13,
   "metadata": {},
   "outputs": [],
   "source": [
    "# Re库的等价用法\n",
    "# 函数式用法:rst = re.search(r'[1-9]\\d{5}','BIT 100081')\n",
    "# 面向对象用法:rex = re.compile(r'[1-9]\\d{5}');rst = rex.search('BIT 100081')\n"
   ]
  },
  {
   "cell_type": "code",
   "execution_count": 15,
   "metadata": {},
   "outputs": [
    {
     "data": {
      "text/plain": [
       "'PYANBNCNDN'"
      ]
     },
     "execution_count": 15,
     "metadata": {},
     "output_type": "execute_result"
    }
   ],
   "source": [
    "# re库的贪婪匹配和最小匹配\n",
    "# 贪婪匹配:在整个表达式匹配成功的前提下,尽可能多的匹配\n",
    "# 默认贪婪匹配\n",
    "match = re.search(r'PY.*N','PYANBNCNDN')\n",
    "match.group(0)\n"
   ]
  },
  {
   "cell_type": "code",
   "execution_count": 17,
   "metadata": {},
   "outputs": [
    {
     "data": {
      "text/plain": [
       "'PYAN'"
      ]
     },
     "execution_count": 17,
     "metadata": {},
     "output_type": "execute_result"
    }
   ],
   "source": [
    "# 最小匹配:在整个表达式匹配成功的前提下,尽可能少的匹配\n",
    "match = re.search(r'PY.*?N','PYANBNCNDN')\n",
    "match.group(0)"
   ]
  },
  {
   "cell_type": "code",
   "execution_count": null,
   "metadata": {},
   "outputs": [],
   "source": []
  }
 ],
 "metadata": {
  "kernelspec": {
   "display_name": "Python 3",
   "language": "python",
   "name": "python3"
  },
  "language_info": {
   "codemirror_mode": {
    "name": "ipython",
    "version": 3
   },
   "file_extension": ".py",
   "mimetype": "text/x-python",
   "name": "python",
   "nbconvert_exporter": "python",
   "pygments_lexer": "ipython3",
   "version": "3.10.9"
  }
 },
 "nbformat": 4,
 "nbformat_minor": 2
}
