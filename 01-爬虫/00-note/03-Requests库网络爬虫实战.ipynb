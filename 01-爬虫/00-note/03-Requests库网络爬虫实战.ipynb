{
 "cells": [
  {
   "cell_type": "code",
   "execution_count": 56,
   "metadata": {},
   "outputs": [
    {
     "data": {
      "text/plain": [
       "200"
      ]
     },
     "execution_count": 56,
     "metadata": {},
     "output_type": "execute_result"
    }
   ],
   "source": [
    "import requests\n",
    "# 京东商品页面爬取\n",
    "r = requests.get('https://item.jd.com/1000111.html')\n",
    "r.status_code"
   ]
  },
  {
   "cell_type": "code",
   "execution_count": 57,
   "metadata": {},
   "outputs": [
    {
     "data": {
      "text/plain": [
       "'utf-8'"
      ]
     },
     "execution_count": 57,
     "metadata": {},
     "output_type": "execute_result"
    }
   ],
   "source": [
    "r.encoding"
   ]
  },
  {
   "cell_type": "code",
   "execution_count": 58,
   "metadata": {},
   "outputs": [
    {
     "name": "stdout",
     "output_type": "stream",
     "text": [
      "<!DOCTYPE html>\n",
      "<html>\n",
      "\n",
      "<head>\n",
      "    <meta charset=\"utf8\" version='1'/>\n",
      "    <title>京东(JD.COM)-正品低价、品质保障、配送及时、轻松购物！</title>\n",
      "    <meta name=\"viewport\" content=\"width=device-width, initial-scale=1.0, maximum-scale=1.0, user-scalable=yes\"/>\n",
      "    <meta name=\"description\"\n",
      "          content=\"京东JD.COM-专业的综合网上购物商城，为您提供正品低价的购物选择、优质便捷的服务体验。商品来自全球数十万品牌商家，囊括家电、手机、电脑、服装、居家、母婴、美妆、个护、食品、生鲜等丰富品类，满足各种购物需求。\"/>\n",
      "    <meta name=\"Keywords\" content=\"网上购物,网上商城,家电,手机,电脑,服装,居家,母婴,美妆,个护,食品,生鲜,京东\"/>\n",
      "    <script type=\"text/javascript\">\n",
      "        window.point = {}\n",
      "        window.point.start = new Date().getTime()\n",
      "    </script>\n",
      "    <link rel=\"dns-prefetch\" href=\"//static.360buyimg.com\"/>\n",
      "    <link rel=\"dns-prefetch\" href=\"//misc.360buyimg.com\"/>\n",
      "    <link rel=\"dns-prefetch\" href=\"//img10.360buyimg.com\"/>\n",
      "    <link rel=\"dns-prefetch\" href=\"//img11.360buyimg.com\"/>\n",
      "    <link rel=\"dns-prefetch\" href=\"//img12.360buyimg.com\"/>\n",
      "    <link rel=\"dns-prefetch\" href=\"//img13.360buyimg.com\"/>\n",
      "    <link rel=\"dns-prefetch\" href=\"//img1\n"
     ]
    }
   ],
   "source": [
    "print(r.text[:1000])"
   ]
  },
  {
   "cell_type": "code",
   "execution_count": 59,
   "metadata": {},
   "outputs": [
    {
     "name": "stdout",
     "output_type": "stream",
     "text": [
      "<!DOCTYPE HTML>\n",
      "<html lang=\"zh-CN\">\n",
      "<head>\n",
      "    <!-- shouji -->\n",
      "    <meta http-equiv=\"Content-Type\" content=\"text/html; charset=utf-8\" />\n",
      "    <title>【华为荣耀8】荣耀8 4GB+64GB 全网通4G手机 魅海蓝【行情 报价 价格 评测】-京东</title>\n",
      "    <meta name=\"keywords\" content=\"HUAWEI荣耀8,华为荣耀8,华为荣耀8报价,HUAWEI荣耀8报价\"/>\n",
      "    <meta name=\"description\" content=\"【华为荣耀8】京东JD.COM提供华为荣耀8正品行货，并包括HUAWEI荣耀8网购指南，以及华为荣耀8图片、荣耀8参数、荣耀8评论、荣耀8心得、荣耀8技巧等信息，网购华为荣耀8上京东,放心又轻松\" />\n",
      "    <meta name=\"format-detection\" content=\"telephone=no\">\n",
      "    <meta http-equiv=\"mobile-agent\" content=\"format=xhtml; url=//item.m.jd.com/product/2967929.html\">\n",
      "    <meta http-equiv=\"mobile-agent\" content=\"format=html5; url=//item.m.jd.com/product/2967929.html\">\n",
      "    <meta http-equiv=\"X-UA-Compatible\" content=\"IE=Edge\">\n",
      "    <link rel=\"canonical\" href=\"//item.jd.com/2967929.html\"/>\n",
      "        <link rel=\"dns-prefetch\" href=\"//misc.360buyimg.com\"/>\n",
      "    <link rel=\"dns-prefetch\" href=\"//static.360buyimg.com\"/>\n",
      "    <link rel=\"dns-prefetch\" href=\"//storage.jd.com\"/>\n",
      "    <link rel=\"dns-prefetch\" href=\"//storage.360buyimg.com\"/>\n",
      "    <link rel=\"dns-prefetch\" href=\"//gias.jd.com\"/>\n",
      "    <link rel=\"dns-prefetch\" href=\"//img10.360buyimg.com\"/>\n",
      "    <link rel=\"dns-prefetch\" href=\"//img11.360buyimg.com\"/>\n",
      "    <link rel=\"dns-prefetch\" href=\"//img13.360buyimg.com\"/>\n",
      "    <link rel=\"dns-prefetch\" href=\"//img12.360buyimg.com\"/>\n",
      "    <link rel=\"dns-prefetch\" href=\"//img14.360buyimg.com\"/>\n",
      "    <link rel=\"dns-prefetch\" href=\"//img30.360buyimg.com\"/>\n",
      "    <link rel=\"dns-prefetch\" href=\"//pi.3.cn\"/>\n",
      "    <link rel=\"dns-prefetch\" href=\"//ad.3.cn\"/>\n",
      "    <link rel=\"dns-prefetch\" href=\"//dx.3.cn\"/>\n",
      "    <link rel=\"dns-prefetch\" href=\"//c.3.cn\"/>\n",
      "    <link rel=\"dns-prefetch\" href=\"//d.jd.com\"/>\n",
      "    <link rel=\"dns-prefetch\" href=\"//x.jd.com\"/>\n",
      "    <link rel=\"dns-prefetch\" href=\"//wl.jd.com\"/>\n",
      "                        <link rel=\"stylesheet\" type=\"text/css\" href=\"//misc.360buyimg.com/??jdf/1.0.0/unit/ui-base/5.0.0/ui-base.css,jdf/1.0.0/unit/shortcut/5.0.0/shortcut.css,jdf/1.0.0/unit/myjd/2.0.0/myjd.css,jdf/1.0.0/unit/nav/5.0.0/nav.css,jdf/1.0.0/unit/global-footer/5.0.0/global-footer.css,jdf/1.0.0/unit/service/5.0.0/service.css\">\n",
      "                            <style>\n",
      "#shop-head [style*=\"2147483647\"] div[hui-mod] {display: none !important;}\n",
      "#shop-head .j-attent-dialog-wrap{display: none;}\n",
      "#shop-head .sh-brand-wrap-630128 {\n",
      "font: 14px/1.5 '\\5fae\\8f6f\\96c5\\9ed1', Arial, sans-serif;\n",
      "height: 110px;\n",
      "overflow:hidden;\n",
      "position:relative;\n",
      "transform: scale(1);\n",
      "}\n",
      "#shop-head .sh-brand-wrap-630128 img {\n",
      "vertical-align: middle;\n",
      "}\n",
      "#shop-head .sh-brand-wrap-630128 .sh-brand {\n",
      "position: relative;\n",
      "margin: 0 auto;\n",
      "width: 990px;\n",
      "overflow:hidden;\n",
      "}\n",
      "#shop-head .sh-brand-wrap-630128 .sh-hot-container {\n",
      "    position: absolute;\n",
      "    width: 1920px;\n",
      "    text-align: center;\n",
      "    left: 50%;\n",
      "    margin-left: -960px;\n",
      "    height: 110px;\n",
      "    overflow: hidden;\n",
      "}\n",
      "#shop-head .sh-brand-wrap-630128 .sh-hot-container .sh-hot-content {\n",
      "    display: inline-block;\n",
      "    width: fit-content;\n",
      "    position: relative;\n",
      "}\n",
      "#shop-head .sh-brand-wrap-630128 .sh-hot-container .hot-link{\n",
      "    display: 'inline-block';\n",
      "    position:absolute;\n",
      "}\n",
      "#shop-head .sh-brand-wrap-630128 .sh-brand .shop-name-box {\n",
      "position: absolute;\n",
      "top: 50%;\n",
      "margin-top: -30px;\n",
      "height: 60px;\n",
      "left: 190px;\n",
      "vertical-align: top;\n",
      "}\n",
      "#shop-head .sh-brand-wrap-630128 .sh-brand .shop-name-box .shop-name{\n",
      "font-size: 18px;\n",
      "color: #333;\n",
      "}\n",
      "#shop-head .sh-brand-wrap-630128 .sh-brand .shop-logo-box {\n",
      "position: absolute;\n",
      "top: 50%;\n",
      "margin-top: -40px;\n",
      "}\n",
      "#shop-head .sh-brand-wrap-630128 .sh-hot-wrap img {\n",
      "width: 180px;\n",
      "height: 60px;\n",
      "}\n",
      "#shop-head .sh-brand-wrap-630128 .sh-brand .hot-link {\n",
      "display: 'inline-block';\n",
      "position:absolute;\n",
      "}\n",
      "#shop-head .sh-brand-wrap-630128 .sh-brand .coupons {\n",
      "position: absolute;\n",
      "right: 0;\n",
      "top: 50%;\n",
      "margin-top: -28px;\n",
      "}\n",
      "#shop-head .sh-brand-wrap-630128 .sh-brand .coupons .coupon {\n",
      "float: left;\n",
      "margin-left: 10px;\n",
      "}\n",
      "#shop-head .sh-brand-wrap-630128 .sh-brand .follow-me {\n",
      "display: inline-block;\n",
      "*display: inline;\n",
      "*zoom: 1;\n",
      "padding-left: 24px;\n",
      "width: 47px;\n",
      "height: 23px;\n",
      "line-height: 23px;\n",
      "color: #000;\n",
      "font-size: 12px;\n",
      "background: url(data:image/png;base64,iVBORw0KGgoAAAANSUhEUgAAAEcAAABZCAMAAABbssnGAAAA/1BMVEUAAAD///////+xGRqxGRqxGRr////uub2xGRr////uub2xGRr///+xGRr////////uub3uub3uub3////uub2xGRruub3uub3////uub2xGRr////uub2xGRruub3////uub2xGRqxGRqxGRqxGRqxGRr////uub2xGRr////uub3kOTzlQEOzHx/++/vsoqbsmJzoaWz9+Pj78vL03t7y2Njv0dHtyMjqwcHtq6/jrKzNbG3GV1jEUFHmTE+/QEG8Oju1Jie6MjP57+/25ub25eXou7zgpKTblJTpfYHRdHXnX2LIXV3mWFvmU1bBSEnBR0i3KSrWhofVg4O6NDWxIW+2AAAAKHRSTlMAl9DQlkxEREQGBgbw8JtMTNCb1tbWmJa3t7fx8fHv1dXVm5yZmktLhfBmHAAAAn5JREFUWMPtmMdy2zAQhlfFIq3eZVuWi+IkAIu61SVLcu92kvd/logAMcT4tgBPHn2Xf3n5ZmcxWMwQfBKRaJriSNN0NJIAmdwpVeU0B4L9CNUhu+9rDqgeB1yUpbpkPc0vXl+OL0Xg8WbER/zkEndG6WwbT3hPCSDBigfi8fLC4gEvSgA/qxWRWOE9EYiydGWPi/dEIc1yLXvWeE8aeM5kz4zi8fu5/Qw0n7cq/UR5MQo8I6oyH3G3xmt/OGOqQAQSohyu2JkPqQoJgJKob94Jeb9R0pS83UMFrcWiRZXIhXTfQ9s/XJTV3YeCXEnZUuL7WXov6khDnda992LHju+LUbPwnBRqBsjkzyxVzvIgSFYtHapJX3No6XHIRUVLl6Kn+c3rdqctAo83Iz7irm073W04tr0NLGUAgxWPtsfzM4tHvMiAGsulLbHEe2pQYOnIHgfvKcBJKJ5j4NmVPV0Lj9/PxJHamaj0U+BFJ/B0LJX5iLvVcfxumAZ/XoYo20t25m1LBQOgLOrJm22/TZQ0ZW/3BJ+vr5Ya+ZDue6j7B5JFvW6SIMiXlS3lPMgYKjv6uFA1YMeO74sZj2UIjgzJxOImyOydE1XO90CQuiA6XKR8zRHR44iLfhJdmmw2vL6aX4nA482Ij/i+RXtTQqY92rrHeyoAJiv+UI+7OxZ/8SIT4iwHVGKA98QhxrIne3p4TwwyLPuyp4/3ZIDnVPZMCR6/n811oLn+p9JPjBeLVvDXhajMJ+5X874/nDlRIA6mKD8G7Mw/iAomQEXUmyGlw42SpsLul8AdjVyiBNtBTaLLj1D3D6Saet2kgv1cUbZU9r6+Fw2koUEawXvxHzpC3Z34XwtFAAAAAElFTkSuQmCC) 0 0 no-repeat;\n",
      "}\n",
      "#shop-head .sh-brand-wrap-630128 .sh-brand .follow-me:hover {\n",
      "background-position: 0 -33px;\n",
      "}\n",
      "#shop-head .sh-brand-wrap-630128 .sh-brand .for-light-bg {\n",
      "color: #fff;\n",
      "background-position: 0 -66px;\n",
      "}\n",
      "#shop-head .sh-brand-wrap-630128 .sh-brand .m-search {\n",
      "position: absolute;\n",
      "right: 0;\n",
      "top: 50%;\n",
      "margin-top: -32px;\n",
      "height: 64px;\n",
      "}\n",
      "#shop-head .sh-brand-wrap-630128 .sh-brand .m-search .m-kw {\n",
      "margin-right: -6px;\n",
      "padding-left: 5px;\n",
      "width: 164px;\n",
      "height: 32px;\n",
      "vertical-align: top;\n",
      "border: 2px solid #000;\n",
      "}\n",
      "#shop-head .sh-brand-wrap-630128 .sh-brand .m-search .m-submit {\n",
      "padding: 0 15px;\n",
      "border: 0;\n",
      "height: 38px;\n",
      "vertical-align: top;\n",
      "background-color: #000;\n",
      "color: #fff;\n",
      "cursor: pointer;\n",
      "}\n",
      "#shop-head .sh-brand-wrap-630128 .sh-brand .m-search .m-hw {\n",
      "padding-top: 5px;\n",
      "font-size: 12px;\n",
      "}\n",
      "#shop-head .sh-brand-wrap-630128 .sh-brand .m-search .m-hw .hw-link {\n",
      "margin-right: 10px;\n",
      "color: #666;\n",
      "}\n",
      "#shop-head .sh-brand-wrap-630128 .sh-brand .for-black-bg .m-kw {\n",
      "border-color: #b1191a;\n",
      "}\n",
      "#shop-head .sh-brand-wrap-630128 .sh-brand .for-black-bg .m-submit {\n",
      "background-color: #b1191a;\n",
      "}\n",
      "#shop-head .sh-brand-wrap-630128 .sh-brand .for-black-bg .m-hw .hw-link {\n",
      "color: #fff;\n",
      "}\n",
      "#shop-head .sh-brand-wrap-630128 .userDefinedArea {\n",
      " margin: 0 auto;\n",
      "}\n",
      "#shop-head .sh-head-menu-922476 ul,\n",
      ".sh-head-menu-922476 ol,\n",
      ".sh-head-menu-922476 dl,\n",
      ".sh-head-menu-922476 li,\n",
      ".sh-head-menu-922476 dt,\n",
      ".sh-head-menu-922476 dd {\n",
      "margin: 0;\n",
      "padding: 0;\n",
      "list-style: none;\n",
      "}\n",
      "#shop-head .sh-head-menu-922476 .sh-hd-container {\n",
      "background-color: #fff;\n",
      "}\n",
      "#shop-head .sh-head-menu-922476 a {\n",
      "text-decoration: none;\n",
      "color: #666666;\n",
      "}\n",
      "#shop-head .sh-head-menu-922476 {\n",
      "width: 100%;\n",
      "}\n",
      "#shop-head .sh-head-menu-922476 .sh-hd-wrap {\n",
      "font: 14px/1.5 '\\5fae\\8f6f\\96c5\\9ed1', Arial, sans-serif;\n",
      "position: relative;\n",
      "margin: 0 auto;\n",
      "height: 40px;\n",
      "font-size: 14px;\n",
      "color: #333;\n",
      "width: 1210px;\n",
      "}\n",
      "#shop-head .sh-head-menu-922476 .menu-list {\n",
      "width: 100%;\n",
      "height: 40px;\n",
      "list-style: none;\n",
      "}\n",
      "#shop-head .sh-head-menu-922476 .mc {\n",
      "overflow: visible;\n",
      "}\n",
      "#shop-head .sh-head-menu-922476 .menu-list .menu {\n",
      "float: left;\n",
      "line-height: 24px;\n",
      "height: 24px;\n",
      "padding: 8px 0;\n",
      "border-radius: 12px;\n",
      "}\n",
      "#shop-head .sh-head-menu-922476 .menu-list .menu:hover .arrow,\n",
      ".sh-head-menu-922476 .menu-list .menu .hover .arrow {\n",
      "font-size: 0;\n",
      "line-height: 0;\n",
      "height: 0;\n",
      "width: 0;\n",
      "border-top: 0;\n",
      "border-left: 5px dashed transparent;\n",
      "border-right: 5px dashed transparent;\n",
      "border-bottom: 5px solid #fff;\n",
      "}\n",
      "#shop-head .sh-head-menu-922476 .menu-list .menu:hover .main-link,\n",
      ".sh-head-menu-922476 .menu-list .menu .hover .main-link {\n",
      "color: #fff !important;\n",
      "background-color: #333;\n",
      "}\n",
      "#shop-head .sh-head-menu-922476 .menu-list .menu .main-link {\n",
      "position: relative;\n",
      "z-index: 4;\n",
      "display: block;\n",
      "padding: 0 15px;\n",
      "color: #333;\n",
      "border-radius: 12px;\n",
      "}\n",
      "#shop-head .sh-head-menu-922476 .menu-list .menu .home-link {\n",
      "font-weight:bold;\n",
      "}\n",
      "#shop-head .sh-head-menu-922476 .menu-list .menu .arrow {\n",
      "display: inline-block;\n",
      "*display: inline;\n",
      "*zoom: 1;\n",
      "vertical-align: middle;\n",
      "margin-left: 10px;\n",
      "font-size: 0;\n",
      "line-height: 0;\n",
      "height: 0;\n",
      "width: 0;\n",
      "border-bottom: 0;\n",
      "border-left: 5px dashed transparent;\n",
      "border-right: 5px dashed transparent;\n",
      "border-top: 5px solid #666;\n",
      "}\n",
      "#shop-head .sh-head-menu-922476 .menu-list .menu .sub-menu-wrap {\n",
      "display: none;\n",
      "position: absolute;\n",
      "left: 0;\n",
      "top: 39px;\n",
      "right: 0;\n",
      "z-index: 99;\n",
      "padding: 20px 40px;\n",
      "border: 1px solid #bebab0;\n",
      "background-color: rgba(247, 242, 234, 0.9);\n",
      "}\n",
      "#shop-head .sh-head-menu-922476 .menu-list .menu .sub-menu-wrap .sub-pannel {\n",
      "float: left;\n",
      "padding: 0;\n",
      "_display: inline;\n",
      "}\n",
      "#shop-head .sh-head-menu-922476 .menu-list .menu .sub-menu-wrap .sub-title {\n",
      "margin-bottom: 13px;\n",
      "height: 54px;\n",
      "line-height: 54px;\n",
      "border-bottom: dashed 1px #c9c9c9;\n",
      "padding: 0 20px;\n",
      "}\n",
      "#shop-head .sh-head-menu-922476 .menu-list .menu .sub-menu-wrap .sub-list {\n",
      "padding: 0 20px;\n",
      "}\n",
      "#shop-head .sh-head-menu-922476 .menu-list .menu .sub-menu-wrap .sub-title .sub-tit-link {\n",
      "font-size: 14px;\n",
      "font-weight: bold;\n",
      "color: #333;\n",
      "line-height: 24px;\n",
      "display: inline-block;\n",
      "height: 24px;\n",
      "padding: 0 10px;\n",
      "margin-left: -10px;\n",
      "border-radius: 12px;\n",
      "min-width: 74px;\n",
      "}\n",
      "#shop-head .sh-head-menu-922476 .menu-list .menu .sub-menu-wrap .sub-title .sub-tit-link:hover {\n",
      "border: solid 1px #e4393c;\n",
      "color: #e4393c;\n",
      "}\n",
      "#shop-head .sh-head-menu-922476 .menu-list .menu .sub-menu-wrap .leaf {\n",
      "font-\n"
     ]
    }
   ],
   "source": [
    "headers = {\n",
    "    'User-Agent':'Mozilla/5.0 (Windows NT 10.0; Win64; x64) AppleWebKit/537.36 (KHTML, like Gecko) Chrome/121.0.0.0 Safari/537.36 Edg/121.0.0.0',\n",
    "    'Cookie':'cud=03bcdf6c79f44e23bf41b27f8c6c0dda; __jdu=17060019696971342022174; shshshfpa=fe218a15-fd80-43b9-bce0-b433bf768ee7-1706001969; shshshfpx=fe218a15-fd80-43b9-bce0-b433bf768ee7-1706001969; unpl=JF8EAKVnNSttXR8EUBpXHhsWSFVXW15YGx8GPWEFA11aTwRSTwZLGhV7XlVdWBRKFx9sZRRUW1NIUw4bAysSEXteVV5dD04eBGljNWRtW0tkBCsCHRMXSlxUVloATB8Fb2UAV1xbSFQDHjIaIhBDWWRubQ1LFgNvZgFQWVx7VTUaMk18EEpcVVtdC0kWAyJnA1VaWUpUDRwKHBoWS19RXVwLSBcFalcEZF4; __jdv=76161171|direct|-|none|-|1708420916439; cvt=2; PCSYCityID=CN_440000_440800_0; shshshsID=3d29579cd685c022171c4cee7acf7f60_6_1708421631262; jsavif=1; areaId=19; ipLoc-djd=19-1677-0-0; mba_muid=17060019696971342022174; 3AB9D23F7A4B3C9B=YN5DK6ZFJVMV4PWQLBOAPJYQ3VZ63MLUJQNBERZBTCEPSR6556F5V2M2H2CTA42EIMFOY4HBJWFWPWWIRVK6IL3IVQ; wlfstk_smdl=yewww8ljl8yceb2stn45libhoqtcxp8w; TrackID=1gXNKvCxOAaMAHqaqNeXBpdzFUrOBQqCf5lR_f3k-9_dmyUCEvdsMwFurRF6n4_MbceJixvQvb54yM3TcmAJwqmcE4-1IzAYvWJWm2gp4s-VZGAtLxs5hHLX7Bm52Q6yK; thor=63DBAE21702494EA7AA1B4BB0242CA6711C741EB0D6C846016B24622753F41B96AD8B99E873B6EF34D80C00A53B657B2140014491A78674D41A538E47CE72DC907DFF1AEE76F83D4AA05F09ACE46D80DA2B8977858BE8A7E060896213582E7BBAE99BCBDAACC86C8FCEE50980F1AE223C1D001D92793DD630713435B829F67E439E710CCF12E3C4B4FF304482BDBA463929BBF6355502ADD0FF6A9CAAEB9BB5E; flash=2_uaRFalswK6iGnzIPutaUJmYkIRHeje8TAhHgBIEMKinqNnWXXV-3Zbvgff5YjKb2B6aBfSCWAw0G5QyrTCOicPyDHf8MP8dSJI6GSAadnVs*; pinId=LQP0N0OrDaEQ3c2cqIgW6bV9-x-f3wj7; pin=jd_716e36f313ae5; unick=jd_178767yoq; ceshi3.com=000; _tp=PMTWXzOv%2B6MkWDI0TeNmbjtfWiheCCpJI6pFUlvCQpY%3D; _pst=jd_716e36f313ae5; token=70eeadff8fdbc0a66b7673c5debb2411,3,949123; __tk=NIdgqfgErUJEsUqEOiN3NLunsLq5sI25OIqBrfSFqA2COfPdrcqDO2,3,949123; 3AB9D23F7A4B3CSS=jdd03YN5DK6ZFJVMV4PWQLBOAPJYQ3VZ63MLUJQNBERZBTCEPSR6556F5V2M2H2CTA42EIMFOY4HBJWFWPWWIRVK6IL3IVQAAAAMNYXSOUBQAAAAACVNSJBTGXHHLJ4X; _gia_d=1; __jda=181111935.17060019696971342022174.1706001970.1706001974.1708420916.3; __jdc=181111935; __jdb=181111935.19.17060019696971342022174|3.1708420916; shshshfpb=BApXen9LuxuhA1yQFD8etDQ4p3UQEsD89BkRBHkZk9xJ1Mo29soO2; csn=16'\n",
    "}\n",
    "url = 'https://item.jd.com/2967929.html'\n",
    "try:\n",
    "    r = requests.get(url,headers=headers)\n",
    "    r.raise_for_status()\n",
    "    r.encoding = r.apparent_encoding\n",
    "    print(r.text[:10000])\n",
    "except:\n",
    "    print('爬取失败')"
   ]
  },
  {
   "cell_type": "code",
   "execution_count": 60,
   "metadata": {},
   "outputs": [
    {
     "name": "stdout",
     "output_type": "stream",
     "text": [
      "200\n"
     ]
    },
    {
     "data": {
      "text/plain": [
       "'ISO-8859-1'"
      ]
     },
     "execution_count": 60,
     "metadata": {},
     "output_type": "execute_result"
    }
   ],
   "source": [
    "# 亚马逊商品页面爬取\n",
    "r = requests.get('https://www.amazon.cn/gp/product/B01M8L5Z3Y',headers=headers)\n",
    "print(r.status_code)\n",
    "r.encoding"
   ]
  },
  {
   "cell_type": "code",
   "execution_count": 61,
   "metadata": {},
   "outputs": [
    {
     "data": {
      "text/plain": [
       "{'User-Agent': 'Mozilla/5.0 (Windows NT 10.0; Win64; x64) AppleWebKit/537.36 (KHTML, like Gecko) Chrome/121.0.0.0 Safari/537.36 Edg/121.0.0.0', 'Accept-Encoding': 'gzip, deflate', 'Accept': '*/*', 'Connection': 'keep-alive', 'Cookie': 'cud=03bcdf6c79f44e23bf41b27f8c6c0dda; __jdu=17060019696971342022174; shshshfpa=fe218a15-fd80-43b9-bce0-b433bf768ee7-1706001969; shshshfpx=fe218a15-fd80-43b9-bce0-b433bf768ee7-1706001969; unpl=JF8EAKVnNSttXR8EUBpXHhsWSFVXW15YGx8GPWEFA11aTwRSTwZLGhV7XlVdWBRKFx9sZRRUW1NIUw4bAysSEXteVV5dD04eBGljNWRtW0tkBCsCHRMXSlxUVloATB8Fb2UAV1xbSFQDHjIaIhBDWWRubQ1LFgNvZgFQWVx7VTUaMk18EEpcVVtdC0kWAyJnA1VaWUpUDRwKHBoWS19RXVwLSBcFalcEZF4; __jdv=76161171|direct|-|none|-|1708420916439; cvt=2; PCSYCityID=CN_440000_440800_0; shshshsID=3d29579cd685c022171c4cee7acf7f60_6_1708421631262; jsavif=1; areaId=19; ipLoc-djd=19-1677-0-0; mba_muid=17060019696971342022174; 3AB9D23F7A4B3C9B=YN5DK6ZFJVMV4PWQLBOAPJYQ3VZ63MLUJQNBERZBTCEPSR6556F5V2M2H2CTA42EIMFOY4HBJWFWPWWIRVK6IL3IVQ; wlfstk_smdl=yewww8ljl8yceb2stn45libhoqtcxp8w; TrackID=1gXNKvCxOAaMAHqaqNeXBpdzFUrOBQqCf5lR_f3k-9_dmyUCEvdsMwFurRF6n4_MbceJixvQvb54yM3TcmAJwqmcE4-1IzAYvWJWm2gp4s-VZGAtLxs5hHLX7Bm52Q6yK; thor=63DBAE21702494EA7AA1B4BB0242CA6711C741EB0D6C846016B24622753F41B96AD8B99E873B6EF34D80C00A53B657B2140014491A78674D41A538E47CE72DC907DFF1AEE76F83D4AA05F09ACE46D80DA2B8977858BE8A7E060896213582E7BBAE99BCBDAACC86C8FCEE50980F1AE223C1D001D92793DD630713435B829F67E439E710CCF12E3C4B4FF304482BDBA463929BBF6355502ADD0FF6A9CAAEB9BB5E; flash=2_uaRFalswK6iGnzIPutaUJmYkIRHeje8TAhHgBIEMKinqNnWXXV-3Zbvgff5YjKb2B6aBfSCWAw0G5QyrTCOicPyDHf8MP8dSJI6GSAadnVs*; pinId=LQP0N0OrDaEQ3c2cqIgW6bV9-x-f3wj7; pin=jd_716e36f313ae5; unick=jd_178767yoq; ceshi3.com=000; _tp=PMTWXzOv%2B6MkWDI0TeNmbjtfWiheCCpJI6pFUlvCQpY%3D; _pst=jd_716e36f313ae5; token=70eeadff8fdbc0a66b7673c5debb2411,3,949123; __tk=NIdgqfgErUJEsUqEOiN3NLunsLq5sI25OIqBrfSFqA2COfPdrcqDO2,3,949123; 3AB9D23F7A4B3CSS=jdd03YN5DK6ZFJVMV4PWQLBOAPJYQ3VZ63MLUJQNBERZBTCEPSR6556F5V2M2H2CTA42EIMFOY4HBJWFWPWWIRVK6IL3IVQAAAAMNYXSOUBQAAAAACVNSJBTGXHHLJ4X; _gia_d=1; __jda=181111935.17060019696971342022174.1706001970.1706001974.1708420916.3; __jdc=181111935; __jdb=181111935.19.17060019696971342022174|3.1708420916; shshshfpb=BApXen9LuxuhA1yQFD8etDQ4p3UQEsD89BkRBHkZk9xJ1Mo29soO2; csn=16'}"
      ]
     },
     "execution_count": 61,
     "metadata": {},
     "output_type": "execute_result"
    }
   ],
   "source": [
    "r.request.headers"
   ]
  },
  {
   "cell_type": "code",
   "execution_count": 62,
   "metadata": {},
   "outputs": [
    {
     "name": "stdout",
     "output_type": "stream",
     "text": [
      "200\n"
     ]
    }
   ],
   "source": [
    "# 百度360搜索引擎关键词提交\n",
    "# 百度的关键词接口\n",
    "kv = {'wd':'Python'}\n",
    "url = 'http://www.baidu.com/s'\n",
    "r = requests.get(url=url,params=kv)\n",
    "print(r.status_code)"
   ]
  },
  {
   "cell_type": "code",
   "execution_count": 63,
   "metadata": {},
   "outputs": [
    {
     "name": "stdout",
     "output_type": "stream",
     "text": [
      "https://wappass.baidu.com/static/captcha/tuxing.html?&logid=8124110526422414679&ak=c27bbc89afca0463650ac9bde68ebe06&backurl=https%3A%2F%2Fwww.baidu.com%2Fs%3Fwd%3DPython&ext=x9G9QDmMXq%2FNo87gjGO0P0%2FsoKWBHxA92LmC2IppbHWmz3O%2FBOxvuSFwUtB1f0Rqg1T9i%2F9aWxTqDk%2BHyX%2BPszWhxC3k6fSFCGM%2FpRvBusF7YpD%2BFqO8Pm5bS9TugQioSCAe1EQ3IsG%2BFn2u6CQ8X5MGpZvluuS3axXkT94wgh4%3D&signature=7d812dae0e40b66900b28f83f20655d8&timestamp=1708472063\n",
      "<!DOCTYPE html>\n",
      "<html lang=\"zh-CN\">\n",
      "<head>\n",
      "    <meta charset=\"utf-8\">\n",
      "    <title>ç¾åº¦å®å¨éªè¯</title>\n",
      "    <meta http-equiv=\"Content-Type\" content=\"text/html; charset=utf-8\">\n",
      "    <meta name=\"apple-mobile-web-app-capable\" content=\"yes\">\n",
      "    <meta name=\"apple-mobile-web-app-status-bar-style\" content=\"black\">\n",
      "    <meta name=\"viewport\" content=\"width=device-width, user-scalable=no, initial-scale=1.0, minimum-scale=1.0, maximum-scale=1.0\">\n",
      "    <meta name=\"format-detection\" content=\"telephone=no, email=no\">\n",
      "    <link rel=\"shortcut icon\" href=\"https://www.baidu.com/favicon.ico\" type=\"image/x-icon\">\n",
      "    <link rel=\"icon\" sizes=\"any\" mask href=\"https://www.baidu.com/img/baidu.svg\">\n",
      "    <meta http-equiv=\"X-UA-Compatible\" content=\"IE=Edge\">\n",
      "    <meta http-equiv=\"Content-Security-Policy\" content=\"upgrade-insecure-requests\">\n",
      "    <link rel=\"stylesheet\" href=\"https://ppui-static-wap.cdn.bcebos.com/static/touch/css/api/mkdjump_aac6df1.css\" />\n",
      "</head>\n",
      "<body>\n",
      "    <div class=\"timeout hide-callback\">\n",
      "        <div class=\"timeout-img\"></div>\n",
      "        <div class=\"timeout-title\">ç½ç»ä¸ç»åï¼è¯·ç¨åéè¯</div>\n",
      "        <button type=\"button\" class=\"timeout-button\">è¿åé¦é¡µ</button>\n",
      "    </div>\n",
      "    <div class=\"timeout-feedback hide-callback\">\n",
      "        <div class=\"timeout-feedback-icon\"></div>\n",
      "        <p class=\"timeout-feedback-title\">é®é¢åé¦</p>\n",
      "    </div>\n",
      "\n",
      "<script src=\"https://ppui-static-wap.cdn.bcebos.com/static/touch/js/mkdjump_v2_21d1ae1.js\"></script>\n",
      "</body>\n",
      "</html>\n",
      "\n"
     ]
    }
   ],
   "source": [
    "print(r.request.url)\n",
    "print(r.text)"
   ]
  },
  {
   "cell_type": "code",
   "execution_count": 64,
   "metadata": {},
   "outputs": [
    {
     "name": "stdout",
     "output_type": "stream",
     "text": [
      "https://www.so.com/s?q=keyword\n",
      "266360\n"
     ]
    }
   ],
   "source": [
    "headers = {\n",
    "    'User-Agent':'Mozilla/5.0 (Windows NT 10.0; Win64; x64) AppleWebKit/537.36 (KHTML, like Gecko) Chrome/'\n",
    "}\n",
    "kv = {'q':'keyword'}\n",
    "r = requests.get('http://www.so.com/s',params=kv)\n",
    "print(r.request.url)\n",
    "r.raise_for_status()\n",
    "print(len(r.text))"
   ]
  },
  {
   "cell_type": "code",
   "execution_count": 65,
   "metadata": {},
   "outputs": [
    {
     "data": {
      "text/plain": [
       "200"
      ]
     },
     "execution_count": 65,
     "metadata": {},
     "output_type": "execute_result"
    }
   ],
   "source": [
    "# 网络图片的爬取和存储\n",
    "# http://www.example.com/picture.jpg\n",
    "# https://www.shijuepi.com/uploads/allimg/200821/1-200R1141258.jpg\n",
    "r = requests.get('http://www.shijuepi.com/uploads/allimg/200821/1-200R1141258.jpg')\n",
    "r.status_code"
   ]
  },
  {
   "cell_type": "code",
   "execution_count": 66,
   "metadata": {},
   "outputs": [
    {
     "name": "stdout",
     "output_type": "stream",
     "text": [
      "文件已存在\n"
     ]
    }
   ],
   "source": [
    "import os\n",
    "url = 'http://www.shijuepi.com/uploads/allimg/200821/1-200R1141258.jpg'\n",
    "root = './figure/'\n",
    "path = root + url.split('/')[-1]\n",
    "try:\n",
    "    if not os.path.exists(root):\n",
    "        os.mkdir(root)\n",
    "    if not os.path.exists(path):\n",
    "        r = requests.get(url)\n",
    "        with open(path,'wb') as f:\n",
    "            f.write(r.content)\n",
    "            f.close()\n",
    "            print('文件保存成功')\n",
    "    else:\n",
    "        print('文件已存在')\n",
    "except:\n",
    "    print('爬取失败')"
   ]
  },
  {
   "cell_type": "code",
   "execution_count": 67,
   "metadata": {},
   "outputs": [
    {
     "name": "stdout",
     "output_type": "stream",
     "text": [
      "https://m.ip138.com/ip.asp?ip=104.21.88.214\n",
      "<html>\n",
      "<head>\n",
      "<meta http-equiv=\"Content-Type\" content=\"text/html; charset=gb2312\">\n",
      "<link rel=\"canonical\" href=\"https://m.ip138.com/ip.html\"/>\n",
      "</head>\n",
      "<body>\n",
      "<script type=\"text/javascript\">\n",
      "if(confirm(\"是否查看 有1元1天约五万次套餐配置的 ip查询api接口（注册免费送1000次）\")){\n",
      "\twindow.top.location.href='https://user.ip138.com/ip/';\n",
      "}\n",
      "else\n",
      "{\n",
      "\talert(\"此页面一周内失效，确定后跳转到新ip查询页面\");\n",
      "\twindow.top.location.href=\"https://www.ipshudi.com/\";\n",
      "}\n",
      "</script>\n",
      "</body>\n",
      "</html>\n"
     ]
    }
   ],
   "source": [
    "# ip地址归属地的自动查询\n",
    "url = 'http://m.ip138.com/ip.asp?ip='\n",
    "r = requests.get(url+'104.21.88.214',headers=headers)\n",
    "print(r.request.url)\n",
    "r.status_code\n",
    "print(r.text[-500:])"
   ]
  },
  {
   "cell_type": "code",
   "execution_count": null,
   "metadata": {},
   "outputs": [],
   "source": []
  }
 ],
 "metadata": {
  "kernelspec": {
   "display_name": "Python 3",
   "language": "python",
   "name": "python3"
  },
  "language_info": {
   "codemirror_mode": {
    "name": "ipython",
    "version": 3
   },
   "file_extension": ".py",
   "mimetype": "text/x-python",
   "name": "python",
   "nbconvert_exporter": "python",
   "pygments_lexer": "ipython3",
   "version": "3.10.9"
  }
 },
 "nbformat": 4,
 "nbformat_minor": 2
}
